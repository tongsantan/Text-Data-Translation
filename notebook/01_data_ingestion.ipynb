{
 "cells": [
  {
   "cell_type": "code",
   "execution_count": 1,
   "metadata": {},
   "outputs": [],
   "source": [
    "import os"
   ]
  },
  {
   "cell_type": "code",
   "execution_count": 2,
   "metadata": {},
   "outputs": [
    {
     "data": {
      "text/plain": [
       "'c:\\\\Users\\\\Vincent\\\\Desktop\\\\Text-Data-Translation-Trials\\\\notebook'"
      ]
     },
     "execution_count": 2,
     "metadata": {},
     "output_type": "execute_result"
    }
   ],
   "source": [
    "%pwd"
   ]
  },
  {
   "cell_type": "code",
   "execution_count": 3,
   "metadata": {},
   "outputs": [],
   "source": [
    "os.chdir(\"../\")"
   ]
  },
  {
   "cell_type": "code",
   "execution_count": 4,
   "metadata": {},
   "outputs": [
    {
     "data": {
      "text/plain": [
       "'c:\\\\Users\\\\Vincent\\\\Desktop\\\\Text-Data-Translation-Trials'"
      ]
     },
     "execution_count": 4,
     "metadata": {},
     "output_type": "execute_result"
    }
   ],
   "source": [
    "%pwd"
   ]
  },
  {
   "cell_type": "code",
   "execution_count": 5,
   "metadata": {},
   "outputs": [],
   "source": [
    "## 3. Update the entity\n",
    "\n",
    "from dataclasses import dataclass\n",
    "from pathlib import Path\n",
    "\n",
    "@dataclass(frozen=True)\n",
    "class DataIngestionConfig:\n",
    "    root_dir: Path\n",
    "    input_data_path: Path\n",
    "    word_array_path: Path"
   ]
  },
  {
   "cell_type": "code",
   "execution_count": 6,
   "metadata": {},
   "outputs": [],
   "source": [
    "## 3. Update the entity\n",
    "\n",
    "from src.constants import *\n",
    "from src.utils.common import read_yaml, create_directories"
   ]
  },
  {
   "cell_type": "code",
   "execution_count": 7,
   "metadata": {},
   "outputs": [],
   "source": [
    "## 4. Update the configuration manager in src config\n",
    "\n",
    "class ConfigurationManager:\n",
    "    def __init__(\n",
    "        self, \n",
    "        config_filepath = CONFIG_FILE_PATH):\n",
    "        \n",
    "        self.config = read_yaml(config_filepath)\n",
    "\n",
    "        create_directories([self.config.output_root])\n",
    "\n",
    "    def get_data_ingestion_config(self) -> DataIngestionConfig:\n",
    "        config = self.config.data_ingestion\n",
    "\n",
    "        create_directories([config.root_dir])\n",
    "\n",
    "        data_ingestion_config = DataIngestionConfig(\n",
    "            root_dir=config.root_dir,\n",
    "            input_data_path=config.input_data_path,\n",
    "            word_array_path=config.word_array_path\n",
    "        )\n",
    "\n",
    "        return data_ingestion_config    "
   ]
  },
  {
   "cell_type": "code",
   "execution_count": 8,
   "metadata": {},
   "outputs": [],
   "source": [
    "## 5. Update the components\n",
    "\n",
    "import os\n",
    "import sys\n",
    "from src.exception import CustomException\n",
    "from src import logger\n",
    "import pandas as pd\n",
    "from dataclasses import dataclass\n",
    "from src.utils.common import read_text, to_lines \n",
    "import numpy as np\n",
    "from numpy import array\n",
    "import string"
   ]
  },
  {
   "cell_type": "code",
   "execution_count": 9,
   "metadata": {},
   "outputs": [],
   "source": [
    "## 5. Update the components\n",
    "\n",
    "class DataIngestion:\n",
    "    def __init__(self, config: DataIngestionConfig):\n",
    "        self.config = config\n",
    "\n",
    "    def initiate_data_ingestion(self):\n",
    "        '''\n",
    "        This function is responsible for data ingestion\n",
    "        \n",
    "        '''\n",
    "        logger.info(\"Data Ingestion\") \n",
    "        \n",
    "        try:\n",
    "            logger.info(\"Reading the data\")\n",
    "\n",
    "            data = read_text(self.config.input_data_path)\n",
    "\n",
    "            fra_eng = to_lines(data)\n",
    "\n",
    "            fra_eng = array(fra_eng)\n",
    "\n",
    "            fra_eng = fra_eng[:50000,:]\n",
    "\n",
    "            # Remove punctuation\n",
    "            fra_eng[:,0] = [s.translate(str.maketrans('', '', string.punctuation)) for s in fra_eng[:,0]]\n",
    "            fra_eng[:,1] = [s.translate(str.maketrans('', '', string.punctuation)) for s in fra_eng[:,1]]\n",
    "\n",
    "            # convert text to lowercase\n",
    "            for i in range(len(fra_eng)):\n",
    "                fra_eng[i,0] = fra_eng[i,0].lower()\n",
    "                fra_eng[i,1] = fra_eng[i,1].lower()\n",
    "\n",
    "            os.makedirs(os.path.dirname(self.config.word_array_path),exist_ok=True)\n",
    "\n",
    "            logger.info(\"Saving the data\")\n",
    "\n",
    "            np.save(self.config.word_array_path, fra_eng)\n",
    "\n",
    "            logger.info(\"Ingestion of the data is completed\")\n",
    "\n",
    "            return fra_eng\n",
    "        \n",
    "        except Exception as e:\n",
    "            raise CustomException(e,sys)  "
   ]
  },
  {
   "cell_type": "code",
   "execution_count": 10,
   "metadata": {},
   "outputs": [
    {
     "name": "stdout",
     "output_type": "stream",
     "text": [
      "[2024-07-16 19:28:41,318: INFO: common: yaml file: config\\config.yaml loaded successfully]\n",
      "[2024-07-16 19:28:41,323: INFO: common: created directory at: output]\n",
      "[2024-07-16 19:28:41,324: INFO: common: created directory at: output/data_ingestion]\n",
      "[2024-07-16 19:28:41,325: INFO: 1398589606: Data Ingestion]\n",
      "[2024-07-16 19:28:41,326: INFO: 1398589606: Reading the data]\n",
      "[2024-07-16 19:28:42,554: INFO: 1398589606: Saving the data]\n",
      "[2024-07-16 19:28:45,990: INFO: 1398589606: Ingestion of the data is completed]\n"
     ]
    }
   ],
   "source": [
    "## 6. Update the pipeline\n",
    "\n",
    "try:\n",
    "    config = ConfigurationManager()\n",
    "    data_ingestion_config = config.get_data_ingestion_config()\n",
    "    data_ingestion = DataIngestion(config=data_ingestion_config)\n",
    "    data_ingestion.initiate_data_ingestion()\n",
    "except Exception as e:\n",
    "  raise e"
   ]
  },
  {
   "cell_type": "code",
   "execution_count": null,
   "metadata": {},
   "outputs": [],
   "source": []
  },
  {
   "cell_type": "code",
   "execution_count": null,
   "metadata": {},
   "outputs": [],
   "source": []
  },
  {
   "cell_type": "code",
   "execution_count": null,
   "metadata": {},
   "outputs": [],
   "source": []
  }
 ],
 "metadata": {
  "kernelspec": {
   "display_name": "nlpenv",
   "language": "python",
   "name": "python3"
  },
  "language_info": {
   "codemirror_mode": {
    "name": "ipython",
    "version": 3
   },
   "file_extension": ".py",
   "mimetype": "text/x-python",
   "name": "python",
   "nbconvert_exporter": "python",
   "pygments_lexer": "ipython3",
   "version": "3.8.19"
  }
 },
 "nbformat": 4,
 "nbformat_minor": 2
}
