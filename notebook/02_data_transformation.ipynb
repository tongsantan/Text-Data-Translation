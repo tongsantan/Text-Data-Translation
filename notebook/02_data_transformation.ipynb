{
 "cells": [
  {
   "cell_type": "code",
   "execution_count": 1,
   "metadata": {},
   "outputs": [],
   "source": [
    "import os"
   ]
  },
  {
   "cell_type": "code",
   "execution_count": 2,
   "metadata": {},
   "outputs": [
    {
     "data": {
      "text/plain": [
       "'c:\\\\Users\\\\Vincent\\\\Documents\\\\GitHub\\\\Text-Data-Translation\\\\notebook'"
      ]
     },
     "execution_count": 2,
     "metadata": {},
     "output_type": "execute_result"
    }
   ],
   "source": [
    "%pwd"
   ]
  },
  {
   "cell_type": "code",
   "execution_count": 3,
   "metadata": {},
   "outputs": [],
   "source": [
    "os.chdir(\"../\")"
   ]
  },
  {
   "cell_type": "code",
   "execution_count": 4,
   "metadata": {},
   "outputs": [
    {
     "data": {
      "text/plain": [
       "'c:\\\\Users\\\\Vincent\\\\Documents\\\\GitHub\\\\Text-Data-Translation'"
      ]
     },
     "execution_count": 4,
     "metadata": {},
     "output_type": "execute_result"
    }
   ],
   "source": [
    "%pwd"
   ]
  },
  {
   "cell_type": "code",
   "execution_count": 5,
   "metadata": {},
   "outputs": [],
   "source": [
    "from dataclasses import dataclass\n",
    "from pathlib import Path\n",
    "\n",
    "@dataclass(frozen=True)\n",
    "class DataTransformationConfig:\n",
    "    root_dir: Path\n",
    "    word_array_path: Path\n",
    "    eng_tokenizer_data_path: Path\n",
    "    fra_tokenizer_data_path: Path\n",
    "    test_array_path: Path\n",
    "    X_train_array_path: Path\n",
    "    y_train_array_path: Path\n",
    "    X_test_array_path: Path\n",
    "    y_test_array_path: Path\n"
   ]
  },
  {
   "cell_type": "code",
   "execution_count": 6,
   "metadata": {},
   "outputs": [],
   "source": [
    "from src.constants import *\n",
    "from src.utils.common import read_yaml, create_directories"
   ]
  },
  {
   "cell_type": "code",
   "execution_count": 7,
   "metadata": {},
   "outputs": [],
   "source": [
    "## Update the configuration manager in src config\n",
    "\n",
    "class ConfigurationManager:\n",
    "    def __init__(\n",
    "        self, \n",
    "        config_filepath = CONFIG_FILE_PATH):\n",
    "        \n",
    "        self.config = read_yaml(config_filepath)\n",
    "\n",
    "        create_directories([self.config.output_root])\n",
    "    \n",
    "    def get_data_transformation_config(self) -> DataTransformationConfig:\n",
    "        config = self.config.data_transformation\n",
    "\n",
    "        create_directories([config.root_dir])\n",
    "\n",
    "        data_transformation_config = DataTransformationConfig(\n",
    "            root_dir=config.root_dir,\n",
    "            word_array_path=config.word_array_path,\n",
    "            eng_tokenizer_data_path=config.eng_tokenizer_data_path,\n",
    "            fra_tokenizer_data_path=config.fra_tokenizer_data_path,\n",
    "            test_array_path=config.test_array_path,\n",
    "            X_train_array_path=config.X_train_array_path,\n",
    "            y_train_array_path=config.y_train_array_path,\n",
    "            X_test_array_path=config.X_test_array_path,\n",
    "            y_test_array_path=config.y_test_array_path\n",
    "        )\n",
    "\n",
    "        return data_transformation_config"
   ]
  },
  {
   "cell_type": "code",
   "execution_count": 8,
   "metadata": {},
   "outputs": [
    {
     "name": "stderr",
     "output_type": "stream",
     "text": [
      "c:\\Users\\Vincent\\anaconda3\\envs\\nlpenv\\lib\\site-packages\\tqdm\\auto.py:21: TqdmWarning: IProgress not found. Please update jupyter and ipywidgets. See https://ipywidgets.readthedocs.io/en/stable/user_install.html\n",
      "  from .autonotebook import tqdm as notebook_tqdm\n"
     ]
    }
   ],
   "source": [
    "import numpy as np\n",
    "import pandas as pd\n",
    "import tensorflow as tf\n",
    "import tensorflow.keras as keras\n",
    "from transformers import AutoTokenizer\n",
    "from src.utils.common import save_tokenizer, tokenization, encode_sequences\n",
    "from src.exception import CustomException\n",
    "from src import logger\n",
    "import os\n",
    "import sys\n",
    "from sklearn.model_selection import train_test_split\n"
   ]
  },
  {
   "cell_type": "code",
   "execution_count": 9,
   "metadata": {},
   "outputs": [],
   "source": [
    "## 5. Update the components\n",
    "\n",
    "class DataTransformation:\n",
    "    def __init__(self, config: DataTransformationConfig):\n",
    "        self.config=config\n",
    "        \n",
    "    def tokenizing(self):\n",
    "        '''\n",
    "        This function is responsible for tokenizing the data\n",
    "        \n",
    "        '''\n",
    "        logger.info(\"Loading the array\")\n",
    "\n",
    "        fra_eng = np.load(self.config.word_array_path)\n",
    "\n",
    "        logger.info(\"Tokenzing the text data\") \n",
    "\n",
    "        # prepare english tokenizer\n",
    "        eng_tokenizer = tokenization(fra_eng[:, 0])\n",
    "\n",
    "        eng_length = 8\n",
    "        \n",
    "        # prepare french tokenizer\n",
    "        fra_tokenizer = tokenization(fra_eng[:, 1])\n",
    "\n",
    "        fra_length = 8\n",
    "        \n",
    "        save_tokenizer(self.config.eng_tokenizer_data_path, eng_tokenizer)\n",
    "        save_tokenizer(self.config.fra_tokenizer_data_path, fra_tokenizer)\n",
    "        \n",
    "        # split data into train and test set\n",
    "        train, test = train_test_split(fra_eng, test_size=0.2, random_state = 12)\n",
    "        \n",
    "        # prepare training data\n",
    "        X_train = encode_sequences(fra_tokenizer, fra_length, train[:, 1])\n",
    "        y_train = encode_sequences(eng_tokenizer, eng_length, train[:, 0])\n",
    "        \n",
    "        # prepare validation data\n",
    "        X_test = encode_sequences(fra_tokenizer, fra_length, test[:, 1])\n",
    "        y_test = encode_sequences(eng_tokenizer, eng_length, test[:, 0])\n",
    "\n",
    "        logger.info(f\"Saving the train and test datasets.\")\n",
    "\n",
    "        np.save(self.config.test_array_path, test)\n",
    "        np.save(self.config.X_train_array_path, X_train)\n",
    "        np.save(self.config.y_train_array_path, y_train)\n",
    "        np.save(self.config.X_test_array_path, X_test)\n",
    "        np.save(self.config.y_test_array_path, y_test)\n",
    "\n",
    "        return(\n",
    "                self.config.test_array_path,\n",
    "                self.config.X_train_array_path,\n",
    "                self.config.y_train_array_path,\n",
    "                self.config.X_test_array_path,\n",
    "                self.config.y_test_array_path\n",
    "            )"
   ]
  },
  {
   "cell_type": "code",
   "execution_count": 10,
   "metadata": {},
   "outputs": [
    {
     "name": "stdout",
     "output_type": "stream",
     "text": [
      "[2024-07-17 06:15:12,755: INFO: common: yaml file: config\\config.yaml loaded successfully]\n",
      "[2024-07-17 06:15:12,755: INFO: common: created directory at: output]\n",
      "[2024-07-17 06:15:12,755: INFO: common: created directory at: output/data_transformation]\n",
      "[2024-07-17 06:15:12,755: INFO: 4200427557: Loading the array]\n",
      "[2024-07-17 06:15:12,830: INFO: 4200427557: Tokenzing the text data]\n",
      "[2024-07-17 06:15:14,936: INFO: 4200427557: Saving the train and test datasets.]\n"
     ]
    }
   ],
   "source": [
    "## 6. Update the pipeline\n",
    "\n",
    "try:\n",
    "    config = ConfigurationManager()\n",
    "    data_transformation_config = config.get_data_transformation_config()\n",
    "    data_transformation = DataTransformation(config=data_transformation_config)\n",
    "    data_transformation.tokenizing()\n",
    "except Exception as e:\n",
    "  raise e"
   ]
  },
  {
   "cell_type": "code",
   "execution_count": null,
   "metadata": {},
   "outputs": [],
   "source": []
  },
  {
   "cell_type": "code",
   "execution_count": null,
   "metadata": {},
   "outputs": [],
   "source": []
  },
  {
   "cell_type": "code",
   "execution_count": null,
   "metadata": {},
   "outputs": [],
   "source": []
  },
  {
   "cell_type": "code",
   "execution_count": null,
   "metadata": {},
   "outputs": [],
   "source": []
  },
  {
   "cell_type": "code",
   "execution_count": null,
   "metadata": {},
   "outputs": [],
   "source": []
  },
  {
   "cell_type": "code",
   "execution_count": null,
   "metadata": {},
   "outputs": [],
   "source": []
  }
 ],
 "metadata": {
  "kernelspec": {
   "display_name": "nlpenv",
   "language": "python",
   "name": "python3"
  },
  "language_info": {
   "codemirror_mode": {
    "name": "ipython",
    "version": 3
   },
   "file_extension": ".py",
   "mimetype": "text/x-python",
   "name": "python",
   "nbconvert_exporter": "python",
   "pygments_lexer": "ipython3",
   "version": "3.8.19"
  }
 },
 "nbformat": 4,
 "nbformat_minor": 2
}
