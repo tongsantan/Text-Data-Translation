{
 "cells": [
  {
   "cell_type": "code",
   "execution_count": null,
   "metadata": {},
   "outputs": [],
   "source": [
    "import os"
   ]
  },
  {
   "cell_type": "code",
   "execution_count": null,
   "metadata": {},
   "outputs": [],
   "source": [
    "%pwd"
   ]
  },
  {
   "cell_type": "code",
   "execution_count": null,
   "metadata": {},
   "outputs": [],
   "source": [
    "os.chdir(\"../\")"
   ]
  },
  {
   "cell_type": "code",
   "execution_count": null,
   "metadata": {},
   "outputs": [],
   "source": [
    "%pwd"
   ]
  },
  {
   "cell_type": "code",
   "execution_count": null,
   "metadata": {},
   "outputs": [],
   "source": [
    "from dataclasses import dataclass\n",
    "from pathlib import Path\n",
    "\n",
    "@dataclass(frozen=True)\n",
    "class ModelTrainerConfig:\n",
    "    root_dir: Path\n",
    "    X_train_array_path: Path\n",
    "    y_train_array_path: Path\n",
    "    eng_tokenizer_data_path: Path\n",
    "    fra_tokenizer_data_path: Path\n",
    "    trained_model_file_path: Path"
   ]
  },
  {
   "cell_type": "code",
   "execution_count": null,
   "metadata": {},
   "outputs": [],
   "source": [
    "from src.constants import *\n",
    "from src.utils.common import read_yaml, create_directories"
   ]
  },
  {
   "cell_type": "code",
   "execution_count": null,
   "metadata": {},
   "outputs": [],
   "source": [
    "## Update the configuration manager in src config\n",
    "\n",
    "class ConfigurationManager:\n",
    "    def __init__(\n",
    "        self, \n",
    "        config_filepath = CONFIG_FILE_PATH):\n",
    "        \n",
    "        self.config = read_yaml(config_filepath)\n",
    "\n",
    "        create_directories([self.config.output_root])\n",
    "    \n",
    "    def get_model_trainer_config(self) -> ModelTrainerConfig:\n",
    "        config = self.config.model_trainer\n",
    "\n",
    "        create_directories([config.root_dir])\n",
    "\n",
    "        model_trainer_config = ModelTrainerConfig(\n",
    "            root_dir=config.root_dir,\n",
    "            X_train_array_path=config.X_train_array_path,\n",
    "            y_train_array_path=config.y_train_array_path,\n",
    "            eng_tokenizer_data_path=config.eng_tokenizer_data_path,\n",
    "            fra_tokenizer_data_path=config.fra_tokenizer_data_path,\n",
    "            trained_model_file_path=config.trained_model_file_path\n",
    "        )\n",
    "\n",
    "        return model_trainer_config"
   ]
  },
  {
   "cell_type": "code",
   "execution_count": null,
   "metadata": {},
   "outputs": [],
   "source": [
    "import numpy as np\n",
    "import tensorflow as tf\n",
    "import tensorflow.keras as keras\n",
    "import pandas as pd\n",
    "from src.utils.common import load_tokenizer, define_model, save_object\n",
    "import os\n",
    "import sys\n",
    "from dataclasses import dataclass\n",
    "import pickle\n",
    "import warnings\n",
    "warnings.filterwarnings(\"ignore\")\n",
    "from src.exception import CustomException\n",
    "from src import logger\n",
    "from keras import optimizers"
   ]
  },
  {
   "cell_type": "code",
   "execution_count": null,
   "metadata": {},
   "outputs": [],
   "source": [
    "## 5. Update the components\n",
    "\n",
    "class ModelTrainer:\n",
    "    def __init__(self, config:ModelTrainerConfig):\n",
    "        self.config=config\n",
    "\n",
    "    def initiate_model_trainer(self):\n",
    "        '''\n",
    "        This function is responsible for model training\n",
    "        \n",
    "        '''\n",
    "        try:\n",
    "            \n",
    "            logger.info(f\"Loading the train datasets\")\n",
    "            X_train = np.load(self.config.X_train_array_path)\n",
    "            y_train = np.load(self.config.y_train_array_path)\n",
    "\n",
    "            eng_tokenizer = load_tokenizer(self.config.eng_tokenizer_data_path)\n",
    "\n",
    "            eng_vocab_size = len(eng_tokenizer.word_index) + 1\n",
    "            \n",
    "            eng_length = 8\n",
    "            \n",
    "            print('English Vocabulary Size: %d' % eng_vocab_size)\n",
    "            \n",
    "            fra_tokenizer = load_tokenizer(self.config.fra_tokenizer_data_path)\n",
    "\n",
    "            fra_vocab_size = len(fra_tokenizer.word_index) + 1\n",
    "            \n",
    "            fra_length = 8\n",
    "            \n",
    "            print('French Vocabulary Size: %d' % fra_vocab_size)\n",
    "\n",
    "            # model compilation\n",
    "            model = define_model(fra_vocab_size, eng_vocab_size, fra_length, eng_length, 512)\n",
    "\n",
    "            opt = optimizers.Adam(learning_rate=0.001)\n",
    "            model.compile(optimizer=opt, loss='sparse_categorical_crossentropy', metrics=['accuracy'])\n",
    "\n",
    "            # use EarlyStopping in the case when val_accuracy reaches a plateau (not improving much)\n",
    "            es = tf.keras.callbacks.EarlyStopping(\n",
    "                monitor='val_accuracy', \n",
    "                restore_best_weights=True, \n",
    "                patience=10, \n",
    "                min_delta = 0.001)\n",
    "            \n",
    "            # create model checkpoint callback to save the best model checkpoint\n",
    "            model_checkpoint_callback = keras.callbacks.ModelCheckpoint(\n",
    "                filepath=\"best_checkpoint\",\n",
    "                save_weights_only=True,\n",
    "                monitor='val_accuracy',\n",
    "                mode='max',\n",
    "                save_best_only=True)\n",
    "\n",
    "            logger.info(f\"Training the model\") \n",
    "            # train model\n",
    "            model.fit(X_train, y_train.reshape(y_train.shape[0], y_train.shape[1], 1),\n",
    "                      epochs=30, batch_size=512, validation_split = 0.2,callbacks=[es, model_checkpoint_callback], \n",
    "                      verbose=1)\n",
    "            \n",
    "            logger.info(f\"Saving the trained model\")\n",
    "            save_object(\n",
    "                    file_path=self.config.trained_model_file_path,\n",
    "                    obj=model\n",
    "                )\n",
    "            \n",
    "            return model\n",
    "        \n",
    "        except Exception as e:\n",
    "            raise CustomException(e,sys)        "
   ]
  },
  {
   "cell_type": "code",
   "execution_count": null,
   "metadata": {},
   "outputs": [],
   "source": [
    "## 6. Update the pipeline\n",
    "\n",
    "try:\n",
    "    config = ConfigurationManager()\n",
    "    model_trainer_config = config.get_model_trainer_config()\n",
    "    model_trainer = ModelTrainer(config=model_trainer_config)\n",
    "    model_trainer.initiate_model_trainer()\n",
    "except Exception as e:\n",
    "  raise e"
   ]
  },
  {
   "cell_type": "code",
   "execution_count": null,
   "metadata": {},
   "outputs": [],
   "source": []
  },
  {
   "cell_type": "code",
   "execution_count": null,
   "metadata": {},
   "outputs": [],
   "source": []
  },
  {
   "cell_type": "code",
   "execution_count": null,
   "metadata": {},
   "outputs": [],
   "source": []
  },
  {
   "cell_type": "code",
   "execution_count": null,
   "metadata": {},
   "outputs": [],
   "source": []
  },
  {
   "cell_type": "code",
   "execution_count": null,
   "metadata": {},
   "outputs": [],
   "source": []
  },
  {
   "cell_type": "code",
   "execution_count": null,
   "metadata": {},
   "outputs": [],
   "source": []
  },
  {
   "cell_type": "code",
   "execution_count": null,
   "metadata": {},
   "outputs": [],
   "source": []
  },
  {
   "cell_type": "code",
   "execution_count": null,
   "metadata": {},
   "outputs": [],
   "source": []
  },
  {
   "cell_type": "code",
   "execution_count": null,
   "metadata": {},
   "outputs": [],
   "source": []
  },
  {
   "cell_type": "code",
   "execution_count": null,
   "metadata": {},
   "outputs": [],
   "source": []
  }
 ],
 "metadata": {
  "kernelspec": {
   "display_name": "nlpenv",
   "language": "python",
   "name": "python3"
  },
  "language_info": {
   "codemirror_mode": {
    "name": "ipython",
    "version": 3
   },
   "file_extension": ".py",
   "mimetype": "text/x-python",
   "name": "python",
   "nbconvert_exporter": "python",
   "pygments_lexer": "ipython3",
   "version": "3.8.19"
  }
 },
 "nbformat": 4,
 "nbformat_minor": 2
}
