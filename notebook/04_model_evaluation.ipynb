{
 "cells": [
  {
   "cell_type": "code",
   "execution_count": 1,
   "metadata": {},
   "outputs": [],
   "source": [
    "import os"
   ]
  },
  {
   "cell_type": "code",
   "execution_count": 2,
   "metadata": {},
   "outputs": [
    {
     "data": {
      "text/plain": [
       "'c:\\\\Users\\\\Vincent\\\\Desktop\\\\Text-Data-Translation-Trials\\\\notebook'"
      ]
     },
     "execution_count": 2,
     "metadata": {},
     "output_type": "execute_result"
    }
   ],
   "source": [
    "%pwd"
   ]
  },
  {
   "cell_type": "code",
   "execution_count": 3,
   "metadata": {},
   "outputs": [],
   "source": [
    "os.chdir(\"../\")"
   ]
  },
  {
   "cell_type": "code",
   "execution_count": 4,
   "metadata": {},
   "outputs": [
    {
     "data": {
      "text/plain": [
       "'c:\\\\Users\\\\Vincent\\\\Desktop\\\\Text-Data-Translation-Trials'"
      ]
     },
     "execution_count": 4,
     "metadata": {},
     "output_type": "execute_result"
    }
   ],
   "source": [
    "%pwd"
   ]
  },
  {
   "cell_type": "code",
   "execution_count": 5,
   "metadata": {},
   "outputs": [],
   "source": [
    "from dataclasses import dataclass\n",
    "from pathlib import Path\n",
    "\n",
    "@dataclass(frozen=True)\n",
    "class ModelEvaluationConfig:\n",
    "    root_dir: Path\n",
    "    model_data_path: Path\n",
    "    test_array_path: Path\n",
    "    X_test_array_path: Path\n",
    "    eng_tokenizer_data_path: Path\n",
    "    results_data_path: Path"
   ]
  },
  {
   "cell_type": "code",
   "execution_count": 6,
   "metadata": {},
   "outputs": [],
   "source": [
    "from src.constants import *\n",
    "from src.utils.common import read_yaml, create_directories"
   ]
  },
  {
   "cell_type": "code",
   "execution_count": 7,
   "metadata": {},
   "outputs": [],
   "source": [
    "## Update the configuration manager in src config\n",
    "\n",
    "class ConfigurationManager:\n",
    "    def __init__(\n",
    "        self, \n",
    "        config_filepath = CONFIG_FILE_PATH):\n",
    "        \n",
    "        self.config = read_yaml(config_filepath)\n",
    "\n",
    "        create_directories([self.config.output_root])\n",
    "    \n",
    "    def get_model_evaluation_config(self) -> ModelEvaluationConfig:\n",
    "        config = self.config.model_evaluation\n",
    "\n",
    "        create_directories([config.root_dir])\n",
    "\n",
    "        model_evaluation_config = ModelEvaluationConfig(\n",
    "            root_dir=config.root_dir,\n",
    "            model_data_path=config.model_data_path,\n",
    "            test_array_path=config.test_array_path,\n",
    "            X_test_array_path=config.X_test_array_path,\n",
    "            eng_tokenizer_data_path=config.eng_tokenizer_data_path,\n",
    "            results_data_path=config.results_data_path\n",
    "        )\n",
    "\n",
    "        return model_evaluation_config"
   ]
  },
  {
   "cell_type": "code",
   "execution_count": 8,
   "metadata": {},
   "outputs": [
    {
     "name": "stderr",
     "output_type": "stream",
     "text": [
      "c:\\Users\\Vincent\\anaconda3\\envs\\nlpenv\\lib\\site-packages\\tqdm\\auto.py:21: TqdmWarning: IProgress not found. Please update jupyter and ipywidgets. See https://ipywidgets.readthedocs.io/en/stable/user_install.html\n",
      "  from .autonotebook import tqdm as notebook_tqdm\n"
     ]
    }
   ],
   "source": [
    "import numpy as np\n",
    "import tensorflow as tf\n",
    "import tensorflow.keras as keras\n",
    "import pandas as pd\n",
    "from transformers import TFAutoModelForSequenceClassification\n",
    "import os\n",
    "import sys\n",
    "from src.utils.common import load_tokenizer, load_object, get_word\n",
    "from src.exception import CustomException\n",
    "from src import logger"
   ]
  },
  {
   "cell_type": "code",
   "execution_count": 9,
   "metadata": {},
   "outputs": [],
   "source": [
    "## 5. Update the components\n",
    "\n",
    "class ModelEvaluation:\n",
    "    def __init__(self, config:ModelEvaluationConfig):\n",
    "        self.config=config\n",
    "\n",
    "\n",
    "    def evaluate_model(self):\n",
    "        '''\n",
    "        This function is responsible for testing model on unseen datasets\n",
    "        '''\n",
    "        try:\n",
    "            logger.info(\"Loading model, tokenizer and test dataset\")\n",
    "            model = load_object(self.config.model_data_path)\n",
    "\n",
    "            test = np.load(self.config.test_array_path)\n",
    "            \n",
    "            X_test = np.load(self.config.X_test_array_path)\n",
    "\n",
    "            eng_tokenizer = load_tokenizer(self.config.eng_tokenizer_data_path)\n",
    "\n",
    "            logger.info(\"Testing Translation Prediction\")\n",
    "            preds = np.argmax(model.predict(X_test), axis=-1)\n",
    "\n",
    "            preds_text = []\n",
    "            for i in preds:\n",
    "                temp = []\n",
    "                for j in range(len(i)):\n",
    "                    t = get_word(i[j], eng_tokenizer)\n",
    "                    if j > 0:\n",
    "                        if (t == get_word(i[j-1], eng_tokenizer)) or (t == None):\n",
    "                            temp.append('')\n",
    "                        else:\n",
    "                            temp.append(t)\n",
    "                    else:\n",
    "                        if(t == None):\n",
    "                            temp.append('')\n",
    "                        else:\n",
    "                            temp.append(t) \n",
    "            \n",
    "                preds_text.append(' '.join(temp))\n",
    "\n",
    "            pred_fra2eng = pd.DataFrame({'actual_fra' : test[:,1], 'actual_eng' : test[:,0], 'predicted_eng' : preds_text})\n",
    "\n",
    "            pred_fra2eng.to_csv(self.config.results_data_path,index=False,header=True)\n",
    "\n",
    "            logger.info(display(pred_fra2eng.head(10)))\n",
    "\n",
    "            logger.info(\"Model evaluation is completed\")\n",
    "\n",
    "            return pred_fra2eng\n",
    "        \n",
    "        except Exception as e:\n",
    "            raise CustomException(e,sys)        "
   ]
  },
  {
   "cell_type": "code",
   "execution_count": 10,
   "metadata": {},
   "outputs": [
    {
     "name": "stdout",
     "output_type": "stream",
     "text": [
      "[2024-07-16 19:59:28,047: INFO: common: yaml file: config\\config.yaml loaded successfully]\n",
      "[2024-07-16 19:59:28,050: INFO: common: created directory at: output]\n",
      "[2024-07-16 19:59:28,051: INFO: common: created directory at: output/model_evaluation]\n",
      "[2024-07-16 19:59:28,052: INFO: 3121909552: Loading model, tokenizer and test dataset]\n",
      "[2024-07-16 19:59:35,707: INFO: 3121909552: Testing Translation Prediction]\n",
      "313/313 [==============================] - 38s 113ms/step\n"
     ]
    },
    {
     "data": {
      "text/html": [
       "<div>\n",
       "<style scoped>\n",
       "    .dataframe tbody tr th:only-of-type {\n",
       "        vertical-align: middle;\n",
       "    }\n",
       "\n",
       "    .dataframe tbody tr th {\n",
       "        vertical-align: top;\n",
       "    }\n",
       "\n",
       "    .dataframe thead th {\n",
       "        text-align: right;\n",
       "    }\n",
       "</style>\n",
       "<table border=\"1\" class=\"dataframe\">\n",
       "  <thead>\n",
       "    <tr style=\"text-align: right;\">\n",
       "      <th></th>\n",
       "      <th>actual_fra</th>\n",
       "      <th>actual_eng</th>\n",
       "      <th>predicted_eng</th>\n",
       "    </tr>\n",
       "  </thead>\n",
       "  <tbody>\n",
       "    <tr>\n",
       "      <th>0</th>\n",
       "      <td>je suis contente de lentendre</td>\n",
       "      <td>im glad to hear it</td>\n",
       "      <td>im glad to  hear it</td>\n",
       "    </tr>\n",
       "    <tr>\n",
       "      <th>1</th>\n",
       "      <td>cest mort</td>\n",
       "      <td>its dead</td>\n",
       "      <td>its</td>\n",
       "    </tr>\n",
       "    <tr>\n",
       "      <th>2</th>\n",
       "      <td>ne tarrête pas de grimper</td>\n",
       "      <td>keep climbing</td>\n",
       "      <td>keep climbing</td>\n",
       "    </tr>\n",
       "    <tr>\n",
       "      <th>3</th>\n",
       "      <td>je vous respecte</td>\n",
       "      <td>i respect you</td>\n",
       "      <td>ill will you</td>\n",
       "    </tr>\n",
       "    <tr>\n",
       "      <th>4</th>\n",
       "      <td>quest ce que tu as fait ensuite</td>\n",
       "      <td>what did you do then</td>\n",
       "      <td>what  you</td>\n",
       "    </tr>\n",
       "    <tr>\n",
       "      <th>5</th>\n",
       "      <td>je vous donnerai un indice</td>\n",
       "      <td>ill give you a hint</td>\n",
       "      <td>ill give you a hint</td>\n",
       "    </tr>\n",
       "    <tr>\n",
       "      <th>6</th>\n",
       "      <td>sontelles déjà arrivées</td>\n",
       "      <td>have they arrived yet</td>\n",
       "      <td>have they just come</td>\n",
       "    </tr>\n",
       "    <tr>\n",
       "      <th>7</th>\n",
       "      <td>elle sait tout</td>\n",
       "      <td>she knows everything</td>\n",
       "      <td>she knows everything</td>\n",
       "    </tr>\n",
       "    <tr>\n",
       "      <th>8</th>\n",
       "      <td>jespère que cest vrai</td>\n",
       "      <td>i hope its true</td>\n",
       "      <td>i hope its true</td>\n",
       "    </tr>\n",
       "    <tr>\n",
       "      <th>9</th>\n",
       "      <td>ils mont dépouillée</td>\n",
       "      <td>they robbed me blind</td>\n",
       "      <td>they robbed me blind</td>\n",
       "    </tr>\n",
       "  </tbody>\n",
       "</table>\n",
       "</div>"
      ],
      "text/plain": [
       "                         actual_fra             actual_eng  \\\n",
       "0     je suis contente de lentendre     im glad to hear it   \n",
       "1                         cest mort               its dead   \n",
       "2         ne tarrête pas de grimper          keep climbing   \n",
       "3                  je vous respecte          i respect you   \n",
       "4  quest ce que tu as fait ensuite    what did you do then   \n",
       "5        je vous donnerai un indice    ill give you a hint   \n",
       "6          sontelles déjà arrivées   have they arrived yet   \n",
       "7                    elle sait tout   she knows everything   \n",
       "8             jespère que cest vrai        i hope its true   \n",
       "9               ils mont dépouillée   they robbed me blind   \n",
       "\n",
       "               predicted_eng  \n",
       "0      im glad to  hear it    \n",
       "1                 its         \n",
       "2        keep climbing        \n",
       "3          ill will you       \n",
       "4             what  you       \n",
       "5     ill give you a hint     \n",
       "6    have they just come      \n",
       "7  she knows everything       \n",
       "8        i hope its true      \n",
       "9   they robbed me blind      "
      ]
     },
     "metadata": {},
     "output_type": "display_data"
    },
    {
     "name": "stdout",
     "output_type": "stream",
     "text": [
      "[2024-07-16 20:00:45,228: INFO: 3121909552: None]\n"
     ]
    }
   ],
   "source": [
    "## 6. Update the pipeline\n",
    "\n",
    "try:\n",
    "    config = ConfigurationManager()\n",
    "    model_evaluation_config = config.get_model_evaluation_config()\n",
    "    model_evaluation = ModelEvaluation(config=model_evaluation_config)\n",
    "    model_evaluation.evaluate_model()\n",
    "except Exception as e:\n",
    "  raise e"
   ]
  },
  {
   "cell_type": "code",
   "execution_count": null,
   "metadata": {},
   "outputs": [],
   "source": []
  },
  {
   "cell_type": "code",
   "execution_count": null,
   "metadata": {},
   "outputs": [],
   "source": []
  },
  {
   "cell_type": "code",
   "execution_count": null,
   "metadata": {},
   "outputs": [],
   "source": []
  },
  {
   "cell_type": "code",
   "execution_count": null,
   "metadata": {},
   "outputs": [],
   "source": []
  }
 ],
 "metadata": {
  "kernelspec": {
   "display_name": "nlpenv",
   "language": "python",
   "name": "python3"
  },
  "language_info": {
   "codemirror_mode": {
    "name": "ipython",
    "version": 3
   },
   "file_extension": ".py",
   "mimetype": "text/x-python",
   "name": "python",
   "nbconvert_exporter": "python",
   "pygments_lexer": "ipython3",
   "version": "3.8.19"
  }
 },
 "nbformat": 4,
 "nbformat_minor": 2
}
