{
 "cells": [
  {
   "cell_type": "markdown",
   "id": "82eb2940",
   "metadata": {},
   "source": [
    "## Text Translation (French to English)"
   ]
  },
  {
   "cell_type": "markdown",
   "id": "85d7fb37",
   "metadata": {},
   "source": [
    "## Objective"
   ]
  },
  {
   "cell_type": "markdown",
   "id": "4fe7507e",
   "metadata": {},
   "source": [
    "To train a neural network model that can translate French words to English words.\n",
    "\n"
   ]
  },
  {
   "cell_type": "markdown",
   "id": "7d2dd783",
   "metadata": {},
   "source": [
    "## Dataset Source & Acknowledgements"
   ]
  },
  {
   "cell_type": "markdown",
   "id": "7ceb6b2e",
   "metadata": {},
   "source": [
    "Kaggle Dataset: Bilingual Sentence Pairs\n",
    "\n",
    "https://www.kaggle.com/datasets/alincijov/bilingual-sentence-pairs\n",
    "\n",
    "https://www.kaggle.com/code/harshjain123/machine-translation-seq2seq-lstms"
   ]
  },
  {
   "cell_type": "code",
   "execution_count": 1,
   "id": "3ea4bce9",
   "metadata": {},
   "outputs": [],
   "source": [
    "import string\n",
    "import re\n",
    "import numpy as np\n",
    "from numpy import array, argmax, random, take\n",
    "import pandas as pd\n",
    "import tensorflow as tf\n",
    "import keras\n",
    "from keras.models import Sequential\n",
    "from keras.layers import Dense, LSTM, Embedding, RepeatVector,TimeDistributed,Bidirectional,Dropout\n",
    "from keras.preprocessing.text import Tokenizer\n",
    "from keras.callbacks import EarlyStopping\n",
    "from tensorflow.keras.preprocessing.sequence import pad_sequences\n",
    "from keras.models import load_model\n",
    "from keras import optimizers\n",
    "import matplotlib.pyplot as plt\n",
    "%matplotlib inline\n",
    "pd.set_option('display.max_colwidth', 200)\n",
    "import warnings\n",
    "warnings.filterwarnings(\"ignore\")\n",
    "from transformers import pipeline"
   ]
  },
  {
   "cell_type": "markdown",
   "id": "e0a2f3e2",
   "metadata": {},
   "source": [
    "## French to English Translation"
   ]
  },
  {
   "cell_type": "markdown",
   "id": "c086994a",
   "metadata": {},
   "source": [
    "## Read in Dataset"
   ]
  },
  {
   "cell_type": "code",
   "execution_count": 2,
   "id": "acdefc34",
   "metadata": {},
   "outputs": [],
   "source": [
    "# function to read raw text file\n",
    "def read_text(filename):\n",
    "        # open the file\n",
    "        file = open(filename, mode='rt', encoding='utf-8')\n",
    "        \n",
    "        # read all text\n",
    "        text = file.read()\n",
    "        file.close()\n",
    "        return text"
   ]
  },
  {
   "cell_type": "code",
   "execution_count": 3,
   "id": "c959876a",
   "metadata": {},
   "outputs": [],
   "source": [
    "# split a text into sentences\n",
    "def to_lines(text):\n",
    "    sents = text.strip().split('\\n')\n",
    "    sents = [i.split('\\t') for i in sents]\n",
    "    return sents"
   ]
  },
  {
   "cell_type": "code",
   "execution_count": 4,
   "id": "6f476d76",
   "metadata": {},
   "outputs": [],
   "source": [
    "data = read_text(\"./raw_data/fra.txt\")\n",
    "fra_eng = to_lines(data)\n",
    "fra_eng = array(fra_eng)"
   ]
  },
  {
   "cell_type": "code",
   "execution_count": 5,
   "id": "f0513c26",
   "metadata": {},
   "outputs": [],
   "source": [
    "fra_eng = fra_eng[:50000,:]"
   ]
  },
  {
   "cell_type": "markdown",
   "id": "54b7cd2f",
   "metadata": {},
   "source": [
    "## Text Preprocessing"
   ]
  },
  {
   "cell_type": "code",
   "execution_count": 6,
   "id": "19614497",
   "metadata": {},
   "outputs": [
    {
     "data": {
      "text/plain": [
       "array([['Go', 'Va ',\n",
       "        'CC-BY 2.0 (France) Attribution: tatoeba.org #2877272 (CM) & #1158250 (Wittydev)'],\n",
       "       ['Go', 'Marche',\n",
       "        'CC-BY 2.0 (France) Attribution: tatoeba.org #2877272 (CM) & #8090732 (Micsmithel)'],\n",
       "       ['Go', 'Bouge ',\n",
       "        'CC-BY 2.0 (France) Attribution: tatoeba.org #2877272 (CM) & #9022935 (Micsmithel)'],\n",
       "       ...,\n",
       "       ['Tom liked what he saw', 'Tom a aimé ce quil a vu',\n",
       "        'CC-BY 2.0 (France) Attribution: tatoeba.org #3729268 (CM) & #5619279 (Aiji)'],\n",
       "       ['Tom liked what he saw', 'Tom aima ce quil vit',\n",
       "        'CC-BY 2.0 (France) Attribution: tatoeba.org #3729268 (CM) & #5619280 (Aiji)'],\n",
       "       ['Tom likes skiing too', 'Tom aussi aime skier',\n",
       "        'CC-BY 2.0 (France) Attribution: tatoeba.org #2869208 (CK) & #5591397 (Aiji)']],\n",
       "      dtype='<U325')"
      ]
     },
     "execution_count": 6,
     "metadata": {},
     "output_type": "execute_result"
    }
   ],
   "source": [
    "# Remove punctuation\n",
    "fra_eng[:,0] = [s.translate(str.maketrans('', '', string.punctuation)) for s in fra_eng[:,0]]\n",
    "fra_eng[:,1] = [s.translate(str.maketrans('', '', string.punctuation)) for s in fra_eng[:,1]]\n",
    "\n",
    "fra_eng"
   ]
  },
  {
   "cell_type": "code",
   "execution_count": 7,
   "id": "592e8b85",
   "metadata": {},
   "outputs": [],
   "source": [
    "# convert text to lowercase\n",
    "for i in range(len(fra_eng)):\n",
    "    fra_eng[i,0] = fra_eng[i,0].lower()\n",
    "    fra_eng[i,1] = fra_eng[i,1].lower()"
   ]
  },
  {
   "cell_type": "code",
   "execution_count": 8,
   "id": "41a90660",
   "metadata": {},
   "outputs": [],
   "source": [
    "# empty lists\n",
    "eng_l = []\n",
    "fra_l = []\n",
    "\n",
    "# populate the lists with sentence lengths\n",
    "for i in fra_eng[:,0]:\n",
    "      eng_l.append(len(i.split()))\n",
    "\n",
    "for i in fra_eng[:,1]:\n",
    "      fra_l.append(len(i.split()))"
   ]
  },
  {
   "cell_type": "markdown",
   "id": "e855c5fc",
   "metadata": {},
   "source": [
    "## Text Tokenization"
   ]
  },
  {
   "cell_type": "code",
   "execution_count": 9,
   "id": "c5662bb3",
   "metadata": {},
   "outputs": [],
   "source": [
    "# function to build a tokenizer\n",
    "def tokenization(lines):\n",
    "    tokenizer = Tokenizer()\n",
    "    tokenizer.fit_on_texts(lines)\n",
    "    return tokenizer"
   ]
  },
  {
   "cell_type": "code",
   "execution_count": 10,
   "id": "34990ace",
   "metadata": {},
   "outputs": [
    {
     "name": "stdout",
     "output_type": "stream",
     "text": [
      "English Vocabulary Size: 6042\n"
     ]
    }
   ],
   "source": [
    "# prepare english tokenizer\n",
    "eng_tokenizer = tokenization(fra_eng[:, 0])\n",
    "eng_vocab_size = len(eng_tokenizer.word_index) + 1\n",
    "\n",
    "eng_length = 8\n",
    "print('English Vocabulary Size: %d' % eng_vocab_size)"
   ]
  },
  {
   "cell_type": "code",
   "execution_count": 11,
   "id": "21836f3d",
   "metadata": {},
   "outputs": [
    {
     "name": "stdout",
     "output_type": "stream",
     "text": [
      "French Vocabulary Size: 13974\n"
     ]
    }
   ],
   "source": [
    "# prepare french tokenizer\n",
    "fra_tokenizer = tokenization(fra_eng[:, 1])\n",
    "fra_vocab_size = len(fra_tokenizer.word_index) + 1\n",
    "\n",
    "fra_length = 8\n",
    "print('French Vocabulary Size: %d' % fra_vocab_size)"
   ]
  },
  {
   "cell_type": "code",
   "execution_count": 12,
   "id": "8ff49ed3",
   "metadata": {},
   "outputs": [],
   "source": [
    "# encode and pad sequences\n",
    "def encode_sequences(tokenizer, length, lines):\n",
    "    seq = tokenizer.texts_to_sequences(lines)\n",
    "    # pad sequences with 0 values\n",
    "    seq = pad_sequences(seq, maxlen=length, padding='post')\n",
    "    return seq"
   ]
  },
  {
   "cell_type": "markdown",
   "id": "695e4fc3",
   "metadata": {},
   "source": [
    "## Modelling"
   ]
  },
  {
   "cell_type": "code",
   "execution_count": 13,
   "id": "d9ec04f9",
   "metadata": {},
   "outputs": [],
   "source": [
    "from sklearn.model_selection import train_test_split\n",
    "\n",
    "# split data into train and test set\n",
    "train, test = train_test_split(fra_eng, test_size=0.2, random_state = 12)"
   ]
  },
  {
   "cell_type": "code",
   "execution_count": 14,
   "id": "1ec130ef",
   "metadata": {},
   "outputs": [],
   "source": [
    "# prepare training data\n",
    "X_train = encode_sequences(fra_tokenizer, fra_length, train[:, 1])\n",
    "y_train = encode_sequences(eng_tokenizer, eng_length, train[:, 0])\n",
    "\n",
    "# prepare validation data\n",
    "X_test = encode_sequences(fra_tokenizer, fra_length, test[:, 1])\n",
    "y_test = encode_sequences(eng_tokenizer, eng_length, test[:, 0])"
   ]
  },
  {
   "cell_type": "code",
   "execution_count": 15,
   "id": "1222be3b",
   "metadata": {},
   "outputs": [],
   "source": [
    "# build model\n",
    "def define_model(in_vocab, out_vocab, in_timesteps, out_timesteps, units):\n",
    "    model = Sequential()\n",
    "    model.add(Embedding(in_vocab, units, input_length=in_timesteps, mask_zero=True))\n",
    "    model.add(Bidirectional(LSTM(units)))\n",
    "    model.add(RepeatVector(out_timesteps))\n",
    "    model.add(Bidirectional(LSTM(units, return_sequences=True)))\n",
    "    model.add(TimeDistributed(Dense(1024, activation='relu')))\n",
    "    model.add(Dropout(0.5))\n",
    "    model.add(TimeDistributed(Dense(out_vocab, activation='softmax')))\n",
    "    return model"
   ]
  },
  {
   "cell_type": "code",
   "execution_count": 16,
   "id": "0eba24e6",
   "metadata": {},
   "outputs": [],
   "source": [
    "# model compilation\n",
    "model = define_model(fra_vocab_size, eng_vocab_size, fra_length, eng_length, 512)"
   ]
  },
  {
   "cell_type": "code",
   "execution_count": 17,
   "id": "d918c7d5",
   "metadata": {},
   "outputs": [],
   "source": [
    "rms = optimizers.Adam(learning_rate=0.001)\n",
    "model.compile(optimizer=rms, loss='sparse_categorical_crossentropy', metrics=['accuracy'])"
   ]
  },
  {
   "cell_type": "code",
   "execution_count": 18,
   "id": "b0d379d4",
   "metadata": {},
   "outputs": [],
   "source": [
    "# use EarlyStopping in the case when val_accuracy reaches a plateau (not improving much)\n",
    "es = tf.keras.callbacks.EarlyStopping(\n",
    "    monitor='val_accuracy', \n",
    "    restore_best_weights=True, \n",
    "    patience=10, \n",
    "    min_delta = 0.001)\n",
    "\n",
    "# create model checkpoint callback to save the best model checkpoint\n",
    "model_checkpoint_callback = keras.callbacks.ModelCheckpoint(\n",
    "    filepath=\"best_checkpoint\",\n",
    "    save_weights_only=True,\n",
    "    monitor='val_accuracy',\n",
    "    mode='max',\n",
    "    save_best_only=True)"
   ]
  },
  {
   "cell_type": "markdown",
   "id": "0f63a884",
   "metadata": {},
   "source": [
    "## Train the model"
   ]
  },
  {
   "cell_type": "code",
   "execution_count": 19,
   "id": "9d9dc56f",
   "metadata": {},
   "outputs": [
    {
     "name": "stdout",
     "output_type": "stream",
     "text": [
      "Epoch 1/30\n",
      "63/63 [==============================] - 140s 2s/step - loss: 3.7397 - accuracy: 0.5544 - val_loss: 2.8377 - val_accuracy: 0.5683\n",
      "Epoch 2/30\n",
      "63/63 [==============================] - 129s 2s/step - loss: 2.7658 - accuracy: 0.5754 - val_loss: 2.7288 - val_accuracy: 0.5859\n",
      "Epoch 3/30\n",
      "63/63 [==============================] - 132s 2s/step - loss: 2.5609 - accuracy: 0.6017 - val_loss: 2.4819 - val_accuracy: 0.6141\n",
      "Epoch 4/30\n",
      "63/63 [==============================] - 133s 2s/step - loss: 2.3001 - accuracy: 0.6325 - val_loss: 2.2701 - val_accuracy: 0.6469\n",
      "Epoch 5/30\n",
      "63/63 [==============================] - 132s 2s/step - loss: 2.0521 - accuracy: 0.6606 - val_loss: 2.0798 - val_accuracy: 0.6708\n",
      "Epoch 6/30\n",
      "63/63 [==============================] - 132s 2s/step - loss: 1.8255 - accuracy: 0.6851 - val_loss: 1.9367 - val_accuracy: 0.6842\n",
      "Epoch 7/30\n",
      "63/63 [==============================] - 131s 2s/step - loss: 1.6376 - accuracy: 0.7026 - val_loss: 1.8359 - val_accuracy: 0.6970\n",
      "Epoch 8/30\n",
      "63/63 [==============================] - 133s 2s/step - loss: 1.4730 - accuracy: 0.7185 - val_loss: 1.7415 - val_accuracy: 0.7096\n",
      "Epoch 9/30\n",
      "63/63 [==============================] - 132s 2s/step - loss: 1.3249 - accuracy: 0.7340 - val_loss: 1.6522 - val_accuracy: 0.7208\n",
      "Epoch 10/30\n",
      "63/63 [==============================] - 134s 2s/step - loss: 1.1839 - accuracy: 0.7506 - val_loss: 1.6062 - val_accuracy: 0.7276\n",
      "Epoch 11/30\n",
      "63/63 [==============================] - 133s 2s/step - loss: 1.0543 - accuracy: 0.7666 - val_loss: 1.5377 - val_accuracy: 0.7375\n",
      "Epoch 12/30\n",
      "63/63 [==============================] - 134s 2s/step - loss: 0.9429 - accuracy: 0.7837 - val_loss: 1.4946 - val_accuracy: 0.7446\n",
      "Epoch 13/30\n",
      "63/63 [==============================] - 134s 2s/step - loss: 0.8384 - accuracy: 0.8002 - val_loss: 1.4652 - val_accuracy: 0.7529\n",
      "Epoch 14/30\n",
      "63/63 [==============================] - 131s 2s/step - loss: 0.7457 - accuracy: 0.8161 - val_loss: 1.4367 - val_accuracy: 0.7592\n",
      "Epoch 15/30\n",
      "63/63 [==============================] - 135s 2s/step - loss: 0.6685 - accuracy: 0.8303 - val_loss: 1.4521 - val_accuracy: 0.7627\n",
      "Epoch 16/30\n",
      "63/63 [==============================] - 135s 2s/step - loss: 0.6019 - accuracy: 0.8431 - val_loss: 1.4220 - val_accuracy: 0.7669\n",
      "Epoch 17/30\n",
      "63/63 [==============================] - 130s 2s/step - loss: 0.5464 - accuracy: 0.8545 - val_loss: 1.4123 - val_accuracy: 0.7719\n",
      "Epoch 18/30\n",
      "63/63 [==============================] - 134s 2s/step - loss: 0.4973 - accuracy: 0.8656 - val_loss: 1.4245 - val_accuracy: 0.7733\n",
      "Epoch 19/30\n",
      "63/63 [==============================] - 132s 2s/step - loss: 0.4510 - accuracy: 0.8759 - val_loss: 1.4256 - val_accuracy: 0.7778\n",
      "Epoch 20/30\n",
      "63/63 [==============================] - 133s 2s/step - loss: 0.4143 - accuracy: 0.8847 - val_loss: 1.4313 - val_accuracy: 0.7799\n",
      "Epoch 21/30\n",
      "63/63 [==============================] - 137s 2s/step - loss: 0.3824 - accuracy: 0.8922 - val_loss: 1.4504 - val_accuracy: 0.7802\n",
      "Epoch 22/30\n",
      "63/63 [==============================] - 135s 2s/step - loss: 0.3578 - accuracy: 0.8977 - val_loss: 1.4322 - val_accuracy: 0.7826\n",
      "Epoch 23/30\n",
      "63/63 [==============================] - 128s 2s/step - loss: 0.3314 - accuracy: 0.9046 - val_loss: 1.4811 - val_accuracy: 0.7828\n",
      "Epoch 24/30\n",
      "63/63 [==============================] - 127s 2s/step - loss: 0.3069 - accuracy: 0.9104 - val_loss: 1.4595 - val_accuracy: 0.7871\n",
      "Epoch 25/30\n",
      "63/63 [==============================] - 124s 2s/step - loss: 0.2867 - accuracy: 0.9153 - val_loss: 1.4898 - val_accuracy: 0.7858\n",
      "Epoch 26/30\n",
      "63/63 [==============================] - 124s 2s/step - loss: 0.2703 - accuracy: 0.9196 - val_loss: 1.4939 - val_accuracy: 0.7868\n",
      "Epoch 27/30\n",
      "63/63 [==============================] - 124s 2s/step - loss: 0.2546 - accuracy: 0.9246 - val_loss: 1.5012 - val_accuracy: 0.7868\n",
      "Epoch 28/30\n",
      "63/63 [==============================] - 125s 2s/step - loss: 0.2374 - accuracy: 0.9286 - val_loss: 1.5300 - val_accuracy: 0.7879\n",
      "Epoch 29/30\n",
      "63/63 [==============================] - 124s 2s/step - loss: 0.2257 - accuracy: 0.9320 - val_loss: 1.5386 - val_accuracy: 0.7896\n",
      "Epoch 30/30\n",
      "63/63 [==============================] - 125s 2s/step - loss: 0.2168 - accuracy: 0.9336 - val_loss: 1.5674 - val_accuracy: 0.7914\n"
     ]
    }
   ],
   "source": [
    "# train model\n",
    "history = model.fit(X_train, y_train.reshape(y_train.shape[0], y_train.shape[1], 1),\n",
    "                    epochs=30, batch_size=512, validation_split = 0.2,callbacks=[es, model_checkpoint_callback], \n",
    "                    verbose=1)"
   ]
  },
  {
   "cell_type": "markdown",
   "id": "d46a3241",
   "metadata": {},
   "source": [
    "## Model Evaluation"
   ]
  },
  {
   "cell_type": "code",
   "execution_count": 20,
   "id": "71628cbf",
   "metadata": {},
   "outputs": [
    {
     "data": {
      "image/png": "[encoded data removed]",
      "text/plain": [
       "<Figure size 1500x500 with 2 Axes>"
      ]
     },
     "metadata": {},
     "output_type": "display_data"
    }
   ],
   "source": [
    "fig, (p1, p2) = plt.subplots(1, 2, figsize=(15,5))\n",
    "\n",
    "x = range(1, 31)\n",
    "\n",
    "p1.plot(x, history.history['loss'], 'r', label='Training Loss')\n",
    "p1.plot(x, history.history['val_loss'], 'b', label='Validation Loss')\n",
    "p1.set_title('Training and Validation Loss')\n",
    "p1.set_xlabel('Epochs')\n",
    "p1.set_ylabel('Loss')\n",
    "p1.legend()\n",
    "\n",
    "p2.plot(x, history.history['accuracy'], 'r', label='Training Accuracy')\n",
    "p2.plot(x, history.history['val_accuracy'], 'b', label='Validation Accuracy')\n",
    "p2.set_title('Training and Validation Accuracy')\n",
    "p2.set_xlabel('Epochs')\n",
    "p2.set_ylabel('accuracy')\n",
    "p2.legend()\n",
    "\n",
    "plt.show()"
   ]
  },
  {
   "cell_type": "code",
   "execution_count": 22,
   "id": "8238c4ff-9ba1-4c1c-b63b-23d9721ed2df",
   "metadata": {},
   "outputs": [],
   "source": [
    "import pickle\n",
    "\n",
    "with open(\"./output/model.pkl\", \"wb\") as file_obj:\n",
    "    pickle.dump(model, file_obj)"
   ]
  },
  {
   "cell_type": "markdown",
   "id": "90df8b90",
   "metadata": {},
   "source": [
    "## Text Translation Prediction"
   ]
  },
  {
   "cell_type": "code",
   "execution_count": 23,
   "id": "511fb186",
   "metadata": {},
   "outputs": [
    {
     "name": "stdout",
     "output_type": "stream",
     "text": [
      "313/313 [==============================] - 31s 91ms/step\n"
     ]
    }
   ],
   "source": [
    "preds = np.argmax(model.predict(X_test), axis=-1)"
   ]
  },
  {
   "cell_type": "code",
   "execution_count": 24,
   "id": "40a6412b",
   "metadata": {},
   "outputs": [],
   "source": [
    "def get_word(n, tokenizer):\n",
    "    for word, index in tokenizer.word_index.items():\n",
    "        if index == n:\n",
    "            return word"
   ]
  },
  {
   "cell_type": "code",
   "execution_count": 25,
   "id": "e26bae98",
   "metadata": {},
   "outputs": [],
   "source": [
    "preds_text = []\n",
    "for i in preds:\n",
    "    temp = []\n",
    "    for j in range(len(i)):\n",
    "        t = get_word(i[j], eng_tokenizer)\n",
    "        if j > 0:\n",
    "            if (t == get_word(i[j-1], eng_tokenizer)) or (t == None):\n",
    "                temp.append('')\n",
    "            else:\n",
    "                temp.append(t)\n",
    "        else:\n",
    "            if(t == None):\n",
    "                temp.append('')\n",
    "            else:\n",
    "                temp.append(t) \n",
    "\n",
    "    preds_text.append(' '.join(temp))"
   ]
  },
  {
   "cell_type": "code",
   "execution_count": 26,
   "id": "6ea4d108",
   "metadata": {},
   "outputs": [],
   "source": [
    "pred_fra2eng = pd.DataFrame({'actual_fra' : test[:,1], 'actual_eng' : test[:,0], 'predicted_eng' : preds_text})"
   ]
  },
  {
   "cell_type": "code",
   "execution_count": 27,
   "id": "27c897d5",
   "metadata": {},
   "outputs": [
    {
     "data": {
      "text/html": [
       "<div>\n",
       "<style scoped>\n",
       "    .dataframe tbody tr th:only-of-type {\n",
       "        vertical-align: middle;\n",
       "    }\n",
       "\n",
       "    .dataframe tbody tr th {\n",
       "        vertical-align: top;\n",
       "    }\n",
       "\n",
       "    .dataframe thead th {\n",
       "        text-align: right;\n",
       "    }\n",
       "</style>\n",
       "<table border=\"1\" class=\"dataframe\">\n",
       "  <thead>\n",
       "    <tr style=\"text-align: right;\">\n",
       "      <th></th>\n",
       "      <th>actual_fra</th>\n",
       "      <th>actual_eng</th>\n",
       "      <th>predicted_eng</th>\n",
       "    </tr>\n",
       "  </thead>\n",
       "  <tbody>\n",
       "    <tr>\n",
       "      <th>0</th>\n",
       "      <td>je suis contente de lentendre</td>\n",
       "      <td>im glad to hear it</td>\n",
       "      <td>im glad to  hear it</td>\n",
       "    </tr>\n",
       "    <tr>\n",
       "      <th>1</th>\n",
       "      <td>cest mort</td>\n",
       "      <td>its dead</td>\n",
       "      <td>its</td>\n",
       "    </tr>\n",
       "    <tr>\n",
       "      <th>2</th>\n",
       "      <td>ne tarrête pas de grimper</td>\n",
       "      <td>keep climbing</td>\n",
       "      <td>keep climbing</td>\n",
       "    </tr>\n",
       "    <tr>\n",
       "      <th>3</th>\n",
       "      <td>je vous respecte</td>\n",
       "      <td>i respect you</td>\n",
       "      <td>ill will you</td>\n",
       "    </tr>\n",
       "    <tr>\n",
       "      <th>4</th>\n",
       "      <td>quest ce que tu as fait ensuite</td>\n",
       "      <td>what did you do then</td>\n",
       "      <td>what  you</td>\n",
       "    </tr>\n",
       "    <tr>\n",
       "      <th>...</th>\n",
       "      <td>...</td>\n",
       "      <td>...</td>\n",
       "      <td>...</td>\n",
       "    </tr>\n",
       "    <tr>\n",
       "      <th>9995</th>\n",
       "      <td>la leçon deux est facile</td>\n",
       "      <td>lesson two is easy</td>\n",
       "      <td>he is are</td>\n",
       "    </tr>\n",
       "    <tr>\n",
       "      <th>9996</th>\n",
       "      <td>il neige làbas</td>\n",
       "      <td>its snowing there</td>\n",
       "      <td>its snowing there</td>\n",
       "    </tr>\n",
       "    <tr>\n",
       "      <th>9997</th>\n",
       "      <td>continuez à creuser</td>\n",
       "      <td>continue digging</td>\n",
       "      <td>keep digging</td>\n",
       "    </tr>\n",
       "    <tr>\n",
       "      <th>9998</th>\n",
       "      <td>je pense que vous avez raison</td>\n",
       "      <td>i think youre right</td>\n",
       "      <td>i think youre right</td>\n",
       "    </tr>\n",
       "    <tr>\n",
       "      <th>9999</th>\n",
       "      <td>cest indéniable</td>\n",
       "      <td>thats undeniable</td>\n",
       "      <td>its is</td>\n",
       "    </tr>\n",
       "  </tbody>\n",
       "</table>\n",
       "<p>10000 rows × 3 columns</p>\n",
       "</div>"
      ],
      "text/plain": [
       "                            actual_fra            actual_eng  \\\n",
       "0        je suis contente de lentendre    im glad to hear it   \n",
       "1                            cest mort              its dead   \n",
       "2            ne tarrête pas de grimper         keep climbing   \n",
       "3                     je vous respecte         i respect you   \n",
       "4     quest ce que tu as fait ensuite   what did you do then   \n",
       "...                                ...                   ...   \n",
       "9995          la leçon deux est facile    lesson two is easy   \n",
       "9996                    il neige làbas     its snowing there   \n",
       "9997               continuez à creuser      continue digging   \n",
       "9998     je pense que vous avez raison   i think youre right   \n",
       "9999                   cest indéniable      thats undeniable   \n",
       "\n",
       "                predicted_eng  \n",
       "0       im glad to  hear it    \n",
       "1                  its         \n",
       "2         keep climbing        \n",
       "3           ill will you       \n",
       "4              what  you       \n",
       "...                       ...  \n",
       "9995           he is are       \n",
       "9996   its snowing there       \n",
       "9997       keep digging        \n",
       "9998  i think youre right      \n",
       "9999             its is        \n",
       "\n",
       "[10000 rows x 3 columns]"
      ]
     },
     "execution_count": 27,
     "metadata": {},
     "output_type": "execute_result"
    }
   ],
   "source": [
    "# print rows\n",
    "pred_fra2eng"
   ]
  },
  {
   "cell_type": "code",
   "execution_count": 33,
   "id": "96b624e9-f9ed-4f5a-b954-1e0ddeaa258f",
   "metadata": {},
   "outputs": [
    {
     "data": {
      "text/html": [
       "<div>\n",
       "<style scoped>\n",
       "    .dataframe tbody tr th:only-of-type {\n",
       "        vertical-align: middle;\n",
       "    }\n",
       "\n",
       "    .dataframe tbody tr th {\n",
       "        vertical-align: top;\n",
       "    }\n",
       "\n",
       "    .dataframe thead th {\n",
       "        text-align: right;\n",
       "    }\n",
       "</style>\n",
       "<table border=\"1\" class=\"dataframe\">\n",
       "  <thead>\n",
       "    <tr style=\"text-align: right;\">\n",
       "      <th></th>\n",
       "      <th>actual_fra</th>\n",
       "      <th>actual_eng</th>\n",
       "      <th>predicted_eng</th>\n",
       "    </tr>\n",
       "  </thead>\n",
       "  <tbody>\n",
       "    <tr>\n",
       "      <th>0</th>\n",
       "      <td>je suis contente de lentendre</td>\n",
       "      <td>im glad to hear it</td>\n",
       "      <td>im glad to  hear it</td>\n",
       "    </tr>\n",
       "    <tr>\n",
       "      <th>1</th>\n",
       "      <td>cest mort</td>\n",
       "      <td>its dead</td>\n",
       "      <td>its</td>\n",
       "    </tr>\n",
       "    <tr>\n",
       "      <th>2</th>\n",
       "      <td>ne tarrête pas de grimper</td>\n",
       "      <td>keep climbing</td>\n",
       "      <td>keep climbing</td>\n",
       "    </tr>\n",
       "    <tr>\n",
       "      <th>3</th>\n",
       "      <td>je vous respecte</td>\n",
       "      <td>i respect you</td>\n",
       "      <td>ill will you</td>\n",
       "    </tr>\n",
       "    <tr>\n",
       "      <th>4</th>\n",
       "      <td>quest ce que tu as fait ensuite</td>\n",
       "      <td>what did you do then</td>\n",
       "      <td>what  you</td>\n",
       "    </tr>\n",
       "    <tr>\n",
       "      <th>5</th>\n",
       "      <td>je vous donnerai un indice</td>\n",
       "      <td>ill give you a hint</td>\n",
       "      <td>ill give you a hint</td>\n",
       "    </tr>\n",
       "    <tr>\n",
       "      <th>6</th>\n",
       "      <td>sontelles déjà arrivées</td>\n",
       "      <td>have they arrived yet</td>\n",
       "      <td>have they just come</td>\n",
       "    </tr>\n",
       "    <tr>\n",
       "      <th>7</th>\n",
       "      <td>elle sait tout</td>\n",
       "      <td>she knows everything</td>\n",
       "      <td>she knows everything</td>\n",
       "    </tr>\n",
       "    <tr>\n",
       "      <th>8</th>\n",
       "      <td>jespère que cest vrai</td>\n",
       "      <td>i hope its true</td>\n",
       "      <td>i hope its true</td>\n",
       "    </tr>\n",
       "    <tr>\n",
       "      <th>9</th>\n",
       "      <td>ils mont dépouillée</td>\n",
       "      <td>they robbed me blind</td>\n",
       "      <td>they robbed me blind</td>\n",
       "    </tr>\n",
       "  </tbody>\n",
       "</table>\n",
       "</div>"
      ],
      "text/plain": [
       "                         actual_fra             actual_eng  \\\n",
       "0     je suis contente de lentendre     im glad to hear it   \n",
       "1                         cest mort               its dead   \n",
       "2         ne tarrête pas de grimper          keep climbing   \n",
       "3                  je vous respecte          i respect you   \n",
       "4  quest ce que tu as fait ensuite    what did you do then   \n",
       "5        je vous donnerai un indice    ill give you a hint   \n",
       "6          sontelles déjà arrivées   have they arrived yet   \n",
       "7                    elle sait tout   she knows everything   \n",
       "8             jespère que cest vrai        i hope its true   \n",
       "9               ils mont dépouillée   they robbed me blind   \n",
       "\n",
       "               predicted_eng  \n",
       "0      im glad to  hear it    \n",
       "1                 its         \n",
       "2        keep climbing        \n",
       "3          ill will you       \n",
       "4             what  you       \n",
       "5     ill give you a hint     \n",
       "6    have they just come      \n",
       "7  she knows everything       \n",
       "8        i hope its true      \n",
       "9   they robbed me blind      "
      ]
     },
     "execution_count": 33,
     "metadata": {},
     "output_type": "execute_result"
    }
   ],
   "source": [
    "# print rows\n",
    "pred_fra2eng.head(10)"
   ]
  },
  {
   "cell_type": "markdown",
   "id": "713faeee",
   "metadata": {},
   "source": [
    "## End of Notebook"
   ]
  },
  {
   "cell_type": "code",
   "execution_count": null,
   "id": "a49fccf3-eeef-4ff8-a496-caaf3eb7fcff",
   "metadata": {},
   "outputs": [],
   "source": []
  }
 ],
 "metadata": {
  "kernelspec": {
   "display_name": "Python 3 (ipykernel)",
   "language": "python",
   "name": "python3"
  },
  "language_info": {
   "codemirror_mode": {
    "name": "ipython",
    "version": 3
   },
   "file_extension": ".py",
   "mimetype": "text/x-python",
   "name": "python",
   "nbconvert_exporter": "python",
   "pygments_lexer": "ipython3",
   "version": "3.8.19"
  }
 },
 "nbformat": 4,
 "nbformat_minor": 5
}
